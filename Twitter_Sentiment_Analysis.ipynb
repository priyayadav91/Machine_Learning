{
 "cells": [
  {
   "cell_type": "markdown",
   "id": "1159f05a",
   "metadata": {},
   "source": [
    "# Twitter Sentiment Analysis"
   ]
  },
  {
   "cell_type": "code",
   "execution_count": 175,
   "id": "d7301fac",
   "metadata": {},
   "outputs": [],
   "source": [
    "import csv\n",
    "import numpy as np\n",
    "import nltk\n",
    "from nltk.corpus import stopwords, wordnet\n",
    "from nltk.tokenize import word_tokenize,sent_tokenize\n",
    "from nltk import pos_tag"
   ]
  },
  {
   "cell_type": "markdown",
   "id": "1262338e",
   "metadata": {},
   "source": [
    "### Read train csv file"
   ]
  },
  {
   "cell_type": "code",
   "execution_count": 2,
   "id": "16c04c29",
   "metadata": {},
   "outputs": [],
   "source": [
    "import pandas as pd\n",
    "train_csv_File = pd.read_csv('train.csv')"
   ]
  },
  {
   "cell_type": "markdown",
   "id": "4ec78eb3",
   "metadata": {},
   "source": [
    "### Read test csv file"
   ]
  },
  {
   "cell_type": "code",
   "execution_count": 3,
   "id": "6aa7a136",
   "metadata": {},
   "outputs": [],
   "source": [
    "test_csv_File=pd.read_csv('test.csv')\n",
    "review_text_test=test_csv_File[\"text\"]"
   ]
  },
  {
   "cell_type": "markdown",
   "id": "6740aee7",
   "metadata": {},
   "source": [
    "### Review text and sentiment"
   ]
  },
  {
   "cell_type": "code",
   "execution_count": 4,
   "id": "df823a37",
   "metadata": {},
   "outputs": [],
   "source": [
    "review_text=train_csv_File[\"text\"]\n",
    "sentiments=train_csv_File[\"airline_sentiment\"]"
   ]
  },
  {
   "cell_type": "markdown",
   "id": "4d474afc",
   "metadata": {},
   "source": [
    "### Tags for Lemmetization"
   ]
  },
  {
   "cell_type": "code",
   "execution_count": 5,
   "id": "55ce3ab7",
   "metadata": {},
   "outputs": [],
   "source": [
    "def get_simple_tag(tag):\n",
    "    if tag.startswith('J'):\n",
    "        return wordnet.ADJ\n",
    "    elif tag.startswith('V'):\n",
    "        return wordnet.VERB\n",
    "    elif tag.startswith('R'):\n",
    "        return wordnet.ADV\n",
    "    elif tag.startswith('N'):\n",
    "        return wordnet.NOUN\n",
    "    else:\n",
    "        return wordnet.NOUN"
   ]
  },
  {
   "cell_type": "markdown",
   "id": "fd768ae9",
   "metadata": {},
   "source": [
    "### Download Stopwords "
   ]
  },
  {
   "cell_type": "code",
   "execution_count": 6,
   "id": "193aa80c",
   "metadata": {},
   "outputs": [
    {
     "name": "stderr",
     "output_type": "stream",
     "text": [
      "[nltk_data] Downloading package stopwords to\n",
      "[nltk_data]     C:\\Users\\priya\\AppData\\Roaming\\nltk_data...\n",
      "[nltk_data]   Package stopwords is already up-to-date!\n"
     ]
    },
    {
     "data": {
      "text/plain": [
       "True"
      ]
     },
     "execution_count": 6,
     "metadata": {},
     "output_type": "execute_result"
    }
   ],
   "source": [
    "nltk.download('stopwords')"
   ]
  },
  {
   "cell_type": "code",
   "execution_count": 85,
   "id": "2dc54d6a",
   "metadata": {},
   "outputs": [],
   "source": [
    "numbers=[\"0\",\"1\",\"2\",\"3\",\"4\",\"5\",\"6\",\"7\",\"8\",\"9\",\"one\"]\n",
    "stp_wrds=stopwords.words('english')\n",
    "stp_wrds+=numbers"
   ]
  },
  {
   "cell_type": "markdown",
   "id": "04ebcd2e",
   "metadata": {},
   "source": [
    "### Download Punctuations \n"
   ]
  },
  {
   "cell_type": "code",
   "execution_count": 86,
   "id": "d803dee7",
   "metadata": {},
   "outputs": [],
   "source": [
    "import string\n",
    "punt=list(string.punctuation)"
   ]
  },
  {
   "cell_type": "markdown",
   "id": "45a29825",
   "metadata": {},
   "source": [
    "### Removing the punctuations and stopwords"
   ]
  },
  {
   "cell_type": "code",
   "execution_count": 118,
   "id": "a9336570",
   "metadata": {},
   "outputs": [],
   "source": [
    "### for training data\n",
    "tokenized_words=[]\n",
    "for ele in review_text:\n",
    "    tokenized_words.append([word .lower() for word in word_tokenize(ele) if word.lower()not in punt+stp_wrds])\n",
    "### for testing data\n",
    "tokenized_words_test=[]\n",
    "for ele in review_text_test:\n",
    "    tokenized_words_test.append([word .lower() for word in word_tokenize(ele) if word.lower()not in punt+stp_wrds])"
   ]
  },
  {
   "cell_type": "markdown",
   "id": "ce18453d",
   "metadata": {},
   "source": [
    "### Getting pos_tag for corresponding words"
   ]
  },
  {
   "cell_type": "code",
   "execution_count": 119,
   "id": "bf7e2e13",
   "metadata": {},
   "outputs": [],
   "source": [
    "### for train data\n",
    "postagwords=[]\n",
    "for ele in tokenized_words:\n",
    "    postagwords.append(pos_tag(ele))\n",
    "### for test data\n",
    "postagwords_test=[]\n",
    "for ele in tokenized_words_test:\n",
    "    postagwords_test.append(pos_tag(ele))\n",
    "    "
   ]
  },
  {
   "cell_type": "markdown",
   "id": "d91be024",
   "metadata": {},
   "source": [
    "### Lemmatize the words"
   ]
  },
  {
   "cell_type": "code",
   "execution_count": 91,
   "id": "de695c06",
   "metadata": {},
   "outputs": [],
   "source": [
    "from nltk.stem import WordNetLemmatizer"
   ]
  },
  {
   "cell_type": "code",
   "execution_count": 92,
   "id": "a7545a73",
   "metadata": {},
   "outputs": [],
   "source": [
    "lmtzr=WordNetLemmatizer()"
   ]
  },
  {
   "cell_type": "code",
   "execution_count": 120,
   "id": "40a7b874",
   "metadata": {},
   "outputs": [],
   "source": [
    "### for train data\n",
    "complete_list=[]\n",
    "for listofwords in postagwords:\n",
    "    new_list=[]\n",
    "    for ele in listofwords:\n",
    "        new_list.append(lmtzr.lemmatize((ele[0]),pos=get_simple_tag(ele[1])))\n",
    "    complete_list.append(new_list)\n",
    "### for train data\n",
    "complete_list_test=[]\n",
    "for listofwords in postagwords_test:\n",
    "    new_list=[]\n",
    "    for ele in listofwords:\n",
    "        new_list.append(lmtzr.lemmatize((ele[0]),pos=get_simple_tag(ele[1])))\n",
    "    complete_list_test.append(new_list)"
   ]
  },
  {
   "cell_type": "code",
   "execution_count": 174,
   "id": "b32b2eff",
   "metadata": {},
   "outputs": [],
   "source": [
    "### for train data\n",
    "list_of_words=[ \" \".join(ele) for ele in complete_list]\n",
    "### for test data\n",
    "list_of_words_test=[\" \".join(ele) for ele in complete_list_test]"
   ]
  },
  {
   "cell_type": "markdown",
   "id": "c5b17152",
   "metadata": {},
   "source": [
    "### Feature Selection using CountVectorizer"
   ]
  },
  {
   "cell_type": "code",
   "execution_count": 257,
   "id": "361525c1",
   "metadata": {},
   "outputs": [],
   "source": [
    "from sklearn.feature_extraction.text import CountVectorizer"
   ]
  },
  {
   "cell_type": "code",
   "execution_count": 258,
   "id": "b1aec432",
   "metadata": {},
   "outputs": [],
   "source": [
    "### for train data\n",
    "count_vect=CountVectorizer(max_features=2250,ngram_range=(1,3),max_df=.80,min_df=.1)\n",
    "review_matrix=count_vect.fit_transform(list_of_words)\n",
    "review_array=np.array(review_matrix.todense())\n",
    "### for test data\n",
    "\n",
    "review_matrix_test=count_vect.transform(list_of_words_test)\n",
    "review_array_test=np.array(review_matrix_test.todense())"
   ]
  },
  {
   "cell_type": "code",
   "execution_count": 259,
   "id": "cb7d2909",
   "metadata": {},
   "outputs": [
    {
     "data": {
      "text/plain": [
       "(10980, 7)"
      ]
     },
     "execution_count": 259,
     "metadata": {},
     "output_type": "execute_result"
    }
   ],
   "source": [
    "review_array.shape"
   ]
  },
  {
   "cell_type": "markdown",
   "id": "1086ff2c",
   "metadata": {},
   "source": [
    "### Using Raw Data"
   ]
  },
  {
   "cell_type": "code",
   "execution_count": 148,
   "id": "459a934b",
   "metadata": {},
   "outputs": [],
   "source": [
    "## for train data\n",
    "review_text_lower=[]\n",
    "for ele in review_text:\n",
    "    review_text_lower.append(ele.lower())\n",
    "## for test data\n",
    "review_text_test_lower=[]\n",
    "for ele in review_text_test:\n",
    "    review_text_test_lower.append(ele.lower())\n",
    "    "
   ]
  },
  {
   "cell_type": "markdown",
   "id": "3bf9ae3f",
   "metadata": {},
   "source": [
    "### Using TFIDF Vectorizer"
   ]
  },
  {
   "cell_type": "code",
   "execution_count": 167,
   "id": "17430048",
   "metadata": {},
   "outputs": [],
   "source": [
    "from sklearn.feature_extraction.text import TfidfVectorizer"
   ]
  },
  {
   "cell_type": "code",
   "execution_count": 267,
   "id": "55e4ec6d",
   "metadata": {},
   "outputs": [],
   "source": [
    "def count_vectorize(n,j):\n",
    "    count_vect=TfidfVectorizer(max_features=n,ngram_range=(1,3),max_df=j)\n",
    "    review_matrix=count_vect.fit_transform(review_text_lower)\n",
    "    review_array=np.array(review_matrix.todense())\n",
    "    ## for test data\n",
    "    review_matrix_test=count_vect.transform(review_text_test_lower)\n",
    "    review_array_test=np.array(review_matrix_test.todense())\n",
    "    return review_array,review_array_test"
   ]
  },
  {
   "cell_type": "code",
   "execution_count": 272,
   "id": "f1080c06",
   "metadata": {},
   "outputs": [],
   "source": [
    "review_array,review_array_test=count_vectorize(2500,.85)"
   ]
  },
  {
   "cell_type": "code",
   "execution_count": 273,
   "id": "ba682f8f",
   "metadata": {},
   "outputs": [
    {
     "data": {
      "text/plain": [
       "(10980, 2500)"
      ]
     },
     "execution_count": 273,
     "metadata": {},
     "output_type": "execute_result"
    }
   ],
   "source": [
    "review_array.shape"
   ]
  },
  {
   "cell_type": "code",
   "execution_count": 668,
   "id": "ef06973d",
   "metadata": {},
   "outputs": [],
   "source": [
    "import matplotlib.pyplot as plt"
   ]
  },
  {
   "cell_type": "code",
   "execution_count": 678,
   "id": "a40b779d",
   "metadata": {},
   "outputs": [
    {
     "data": {
      "text/plain": [
       "<matplotlib.collections.PathCollection at 0x27e71e0d790>"
      ]
     },
     "execution_count": 678,
     "metadata": {},
     "output_type": "execute_result"
    },
    {
     "data": {
      "image/png": "[encoded data removed]",
      "text/plain": [
       "<Figure size 432x288 with 1 Axes>"
      ]
     },
     "metadata": {
      "needs_background": "light"
     },
     "output_type": "display_data"
    }
   ],
   "source": [
    "# plt1=fig.add_subplot(231)\n",
    "plt.scatter(feature_value,predicted_values)"
   ]
  },
  {
   "cell_type": "markdown",
   "id": "72a974a5",
   "metadata": {},
   "source": [
    "### Using Naive Nyase Classifier"
   ]
  },
  {
   "cell_type": "code",
   "execution_count": 204,
   "id": "29ff1608",
   "metadata": {},
   "outputs": [],
   "source": [
    "from sklearn.naive_bayes import MultinomialNB"
   ]
  },
  {
   "cell_type": "code",
   "execution_count": 274,
   "id": "540f7eae",
   "metadata": {},
   "outputs": [
    {
     "data": {
      "text/plain": [
       "MultinomialNB()"
      ]
     },
     "execution_count": 274,
     "metadata": {},
     "output_type": "execute_result"
    }
   ],
   "source": [
    "ml=MultinomialNB()\n",
    "ml.fit(review_array,sentiments)"
   ]
  },
  {
   "cell_type": "markdown",
   "id": "58f0d35a",
   "metadata": {},
   "source": [
    "### Predict the result"
   ]
  },
  {
   "cell_type": "code",
   "execution_count": 275,
   "id": "2154f4d5",
   "metadata": {},
   "outputs": [],
   "source": [
    "predictions=ml.predict(review_array_test)"
   ]
  },
  {
   "cell_type": "markdown",
   "id": "8ef80c62",
   "metadata": {},
   "source": [
    "### Save the predictions in result.csv file"
   ]
  },
  {
   "cell_type": "code",
   "execution_count": 276,
   "id": "a1e1093c",
   "metadata": {},
   "outputs": [],
   "source": [
    "np.savetxt(\"result.csv\",predictions,fmt='%s')"
   ]
  },
  {
   "cell_type": "markdown",
   "id": "53a56ca3",
   "metadata": {},
   "source": [
    "### wordcloud representation of features"
   ]
  },
  {
   "cell_type": "code",
   "execution_count": 32,
   "id": "736f8c3b",
   "metadata": {},
   "outputs": [],
   "source": [
    "import matplotlib.pyplot as plt"
   ]
  },
  {
   "cell_type": "code",
   "execution_count": 194,
   "id": "465b70af",
   "metadata": {},
   "outputs": [
    {
     "name": "stderr",
     "output_type": "stream",
     "text": [
      "C:\\Users\\priya\\AppData\\Local\\Programs\\Python\\Python39\\lib\\site-packages\\sklearn\\utils\\deprecation.py:87: FutureWarning: Function get_feature_names is deprecated; get_feature_names is deprecated in 1.0 and will be removed in 1.2. Please use get_feature_names_out instead.\n",
      "  warnings.warn(msg, category=FutureWarning)\n"
     ]
    },
    {
     "data": {
      "image/png": "[encoded data removed]",
      "text/plain": [
       "<Figure size 432x288 with 1 Axes>"
      ]
     },
     "metadata": {
      "needs_background": "light"
     },
     "output_type": "display_data"
    }
   ],
   "source": [
    "frequency_wordcloud = WordCloud(max_font_size=50, max_words=50, background_color=\"white\").generate(str(count_vect.get_feature_names()))\n",
    "plt.figure()\n",
    "plt.title(\"Frequent words  - Wordcloud\")\n",
    "plt.imshow(frequency_wordcloud, interpolation=\"bilinear\")\n",
    "plt.axis(\"off\")\n",
    "plt.show()"
   ]
  },
  {
   "cell_type": "code",
   "execution_count": null,
   "id": "87827298",
   "metadata": {},
   "outputs": [],
   "source": []
  }
 ],
 "metadata": {
  "kernelspec": {
   "display_name": "Python 3 (ipykernel)",
   "language": "python",
   "name": "python3"
  },
  "language_info": {
   "codemirror_mode": {
    "name": "ipython",
    "version": 3
   },
   "file_extension": ".py",
   "mimetype": "text/x-python",
   "name": "python",
   "nbconvert_exporter": "python",
   "pygments_lexer": "ipython3",
   "version": "3.9.7"
  }
 },
 "nbformat": 4,
 "nbformat_minor": 5
}
