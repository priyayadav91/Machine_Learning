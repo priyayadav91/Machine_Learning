{
 "cells": [
  {
   "cell_type": "markdown",
   "id": "b7965415",
   "metadata": {},
   "source": [
    "### Importing mnist dataset "
   ]
  },
  {
   "cell_type": "code",
   "execution_count": 355,
   "id": "7ab6998e",
   "metadata": {},
   "outputs": [],
   "source": [
    "from tensorflow.keras.datasets import mnist"
   ]
  },
  {
   "cell_type": "code",
   "execution_count": 437,
   "id": "08240bcd",
   "metadata": {},
   "outputs": [],
   "source": [
    "mnist_data=mnist.load_data()"
   ]
  },
  {
   "cell_type": "code",
   "execution_count": 438,
   "id": "4ff68ec3",
   "metadata": {},
   "outputs": [],
   "source": [
    "(x_train,y_train),(x_test,y_test)=mnist_data"
   ]
  },
  {
   "cell_type": "code",
   "execution_count": 439,
   "id": "764dd3a7",
   "metadata": {},
   "outputs": [
    {
     "data": {
      "text/plain": [
       "((60000, 28, 28), (60000,))"
      ]
     },
     "execution_count": 439,
     "metadata": {},
     "output_type": "execute_result"
    }
   ],
   "source": [
    "x_train.shape,y_train.shape"
   ]
  },
  {
   "cell_type": "code",
   "execution_count": 440,
   "id": "3d76f9dd",
   "metadata": {},
   "outputs": [],
   "source": [
    "from sklearn.model_selection import train_test_split\n",
    "import numpy as np"
   ]
  },
  {
   "cell_type": "code",
   "execution_count": 441,
   "id": "4e2ade3d",
   "metadata": {},
   "outputs": [],
   "source": [
    "# x_train,x_test,y_train,y_test=train_test_split(x_train,y_train,train_size=5000,test_size=1000)"
   ]
  },
  {
   "cell_type": "code",
   "execution_count": 442,
   "id": "831ab199",
   "metadata": {},
   "outputs": [],
   "source": [
    "x_train=np.reshape(x_train,(60000,784))"
   ]
  },
  {
   "cell_type": "code",
   "execution_count": 443,
   "id": "73fcbb3f",
   "metadata": {},
   "outputs": [],
   "source": [
    "x_train=x_train/255"
   ]
  },
  {
   "cell_type": "code",
   "execution_count": 444,
   "id": "0bafb776",
   "metadata": {},
   "outputs": [
    {
     "data": {
      "text/plain": [
       "(60000, 784)"
      ]
     },
     "execution_count": 444,
     "metadata": {},
     "output_type": "execute_result"
    }
   ],
   "source": [
    "x_train.shape"
   ]
  },
  {
   "cell_type": "markdown",
   "id": "4479abec",
   "metadata": {},
   "source": [
    "### convert output to one-hot encoding"
   ]
  },
  {
   "cell_type": "code",
   "execution_count": 445,
   "id": "dd04938e",
   "metadata": {},
   "outputs": [],
   "source": [
    "from sklearn.preprocessing import LabelEncoder\n",
    "from keras.utils import np_utils"
   ]
  },
  {
   "cell_type": "code",
   "execution_count": 446,
   "id": "1a1b27d0",
   "metadata": {},
   "outputs": [],
   "source": [
    "def hot_one_encoding(y):\n",
    "    encoder = LabelEncoder()\n",
    "    encoder.fit(y)\n",
    "    encoded_Y = encoder.transform(y)\n",
    "        # convert integers to dummy variables (i.e. one hot encoded)\n",
    "    hot_encoded = np_utils.to_categorical(encoded_Y)\n",
    "#     return hot_encoded.T\n",
    "    return hot_encoded.T"
   ]
  },
  {
   "cell_type": "code",
   "execution_count": 447,
   "id": "e8985004",
   "metadata": {},
   "outputs": [
    {
     "data": {
      "text/plain": [
       "(10, 60000)"
      ]
     },
     "execution_count": 447,
     "metadata": {},
     "output_type": "execute_result"
    }
   ],
   "source": [
    "hot_one_encoding(y_train).shape"
   ]
  },
  {
   "cell_type": "code",
   "execution_count": 461,
   "id": "c87448d0",
   "metadata": {},
   "outputs": [
    {
     "data": {
      "text/plain": [
       "60000.0"
      ]
     },
     "execution_count": 461,
     "metadata": {},
     "output_type": "execute_result"
    }
   ],
   "source": [
    "np.sum(hot_one_encoding(y_train))"
   ]
  },
  {
   "cell_type": "code",
   "execution_count": 448,
   "id": "ec69a6d5",
   "metadata": {},
   "outputs": [],
   "source": [
    "### forward propogation with one hidden layer\n",
    "### there were 10 units in layer1\n",
    "### there were 10 units in out layer"
   ]
  },
  {
   "cell_type": "markdown",
   "id": "3c5c8d49",
   "metadata": {},
   "source": [
    "### For 1st Hidden Layer"
   ]
  },
  {
   "cell_type": "code",
   "execution_count": 449,
   "id": "bbeba396",
   "metadata": {},
   "outputs": [],
   "source": [
    "def initial_parameter(x_train):\n",
    "#     x_train=np.reshape(x_train,(5000,784))\n",
    "    m,input_param=x_train.shape\n",
    "    n_units_hidden=10\n",
    "    \n",
    "    w1=np.random.rand(input_param,n_units_hidden)-0.5\n",
    "    ##w1--784 X 10\n",
    "    b1=np.random.rand(n_units_hidden,1)-0.5\n",
    "    ##w1--10 X 1\n",
    "    w2=np.random.rand(n_units_hidden,n_units_hidden)-0.5\n",
    "    ##w1--10 X 10\n",
    "    b2=np.random.rand(n_units_hidden,1)-0.5\n",
    "    ##w1--10 X 1\n",
    "    return w1,b1,w2,b2"
   ]
  },
  {
   "cell_type": "code",
   "execution_count": 450,
   "id": "2487759d",
   "metadata": {},
   "outputs": [],
   "source": [
    "def forward_propogation(x_train,w1,b1,w2,b2):\n",
    "#     print(\"shape of x_train\",x_train.shape,\"shape of w1\",w1.shape,\"shape of b1\",b1.shape,\"shape of w2\",w2.shape,\"shape of b2\",b2.shape)\n",
    "    A0=x_train.T\n",
    "    #A0--784 X m\n",
    "    z1=np.dot(w1.T,A0)+b1 \n",
    "    ##w1.T--10 X 784 A0--784 X m\n",
    "    ##z1--10 X m\n",
    "    A1=relu(z1)\n",
    "    ##A1--10 X m\n",
    "    z2=np.dot(w2,A1)+b2\n",
    "    ##w2--10 X 10 A1--10 X m\n",
    "    ##z2--10 X m\n",
    "    A2=softmax(z2)\n",
    "    ##A2--10 X m\n",
    "    return z1,A1,z2,A2"
   ]
  },
  {
   "cell_type": "code",
   "execution_count": 451,
   "id": "5c449171",
   "metadata": {},
   "outputs": [],
   "source": [
    "def softmax(z):\n",
    "#     f=np.exp(z-np.max(z,axis=0))\n",
    "    f=np.exp(z)\n",
    "    return f/np.sum(f,axis=0)"
   ]
  },
  {
   "cell_type": "code",
   "execution_count": 452,
   "id": "1a694248",
   "metadata": {},
   "outputs": [],
   "source": [
    "def relu(z1):\n",
    "    return np.maximum(z1,0)"
   ]
  },
  {
   "cell_type": "markdown",
   "id": "60648b45",
   "metadata": {},
   "source": [
    "### Get Pridiction"
   ]
  },
  {
   "cell_type": "code",
   "execution_count": 453,
   "id": "6b6b642d",
   "metadata": {},
   "outputs": [],
   "source": [
    "def get_prediction(A2):\n",
    "    return np.argmax(A2,0)"
   ]
  },
  {
   "cell_type": "markdown",
   "id": "b24dad7d",
   "metadata": {},
   "source": [
    "### Accuracy Calculation"
   ]
  },
  {
   "cell_type": "code",
   "execution_count": 454,
   "id": "fac909a9",
   "metadata": {},
   "outputs": [],
   "source": [
    "def accuracy(prediction,y):\n",
    "    print(\"correct outputs \", np.sum(prediction==y),\"out of \", len(y))\n",
    "#     print(np.sum(prediction==y))\n",
    "    return np.sum(prediction==y)/len(y)"
   ]
  },
  {
   "cell_type": "markdown",
   "id": "81bacd43",
   "metadata": {},
   "source": [
    "### Backward Propogation"
   ]
  },
  {
   "cell_type": "code",
   "execution_count": 455,
   "id": "6d8f147f",
   "metadata": {},
   "outputs": [],
   "source": [
    "def backward_propogation(w1,w2,A1,A2,z1,z2,x,y):\n",
    "    m=len(y)\n",
    "    dz2=A2-hot_one_encoding(y)\n",
    "    ##A2--10 X m dz2--10 X m\n",
    "    ##dz2--10 X m\n",
    "    dw2=1/m*(np.dot(dz2,A1.T))\n",
    "    ##dz2--10 X m A1.T-- m X 10\n",
    "    ##dw2--10 X 10\n",
    "#     db2=1/m*(np.sum(dz2,1,keepdims=True))\n",
    "    db2=1/m*np.sum(dz2)\n",
    "    ##db2--10 X 1\n",
    "    dz1=np.dot(w2.T,dz2)*derivative_relu(z1)\n",
    "    ##w2--10 X 10 dz2--10 X m z1--10 X m\n",
    "    ##dz1--10 X m\n",
    "    dw1=1/m*(np.dot(dz1,x))\n",
    "    ##dz1--10 X m  x--m X 784\n",
    "    ##dw1--10 X 784\n",
    "    db1=1/m*np.sum(dz1)\n",
    "    ##dz1--10 X m\n",
    "    ##db1--10 X 1\n",
    "    return dw1,db1,dw2,db2\n",
    "    "
   ]
  },
  {
   "cell_type": "code",
   "execution_count": 456,
   "id": "2613da71",
   "metadata": {},
   "outputs": [],
   "source": [
    "def update_parameter(w1,dw1,b1,db1,w2,dw2,b2,db2,l_r):\n",
    "    w1=w1-l_r*dw1.T\n",
    "    b1=b1-l_r*db1\n",
    "    w2=w2-l_r*dw2\n",
    "    b2=b2-l_r*db2\n",
    "    return w1,b1,w2,b2\n",
    "    "
   ]
  },
  {
   "cell_type": "code",
   "execution_count": 457,
   "id": "f325cfb2",
   "metadata": {},
   "outputs": [],
   "source": [
    "def derivative_relu(z):\n",
    "    return z>0"
   ]
  },
  {
   "cell_type": "code",
   "execution_count": 458,
   "id": "d4a3a842",
   "metadata": {},
   "outputs": [],
   "source": [
    "def gradient_descent(x,y,no_iteration,l_r):\n",
    "    w1,b1,w2,b2=initial_parameter(x)\n",
    "    for i in range(no_iteration):\n",
    "        z1,A1,z2,A2=forward_propogation(x,w1,b1,w2,b2)\n",
    "        dw1,db1,dw2,db2=backward_propogation(w1,w2,A1,A2,z1,z2,x,y)\n",
    "        w1,b1,w2,b2=update_parameter(w1,dw1,b1,db1,w2,dw2,b2,db2,l_r)\n",
    "        if (i%50==0):\n",
    "            print(\"itration:\", i)\n",
    "            print(\"accuracy:\",accuracy(get_prediction(A2),y))\n",
    "    return w1,b1,w2,b2\n",
    "        \n",
    "    "
   ]
  },
  {
   "cell_type": "code",
   "execution_count": 460,
   "id": "a31b60c8",
   "metadata": {},
   "outputs": [
    {
     "name": "stdout",
     "output_type": "stream",
     "text": [
      "itration: 0\n",
      "correct outputs  6763 out of  60000\n",
      "accuracy: 0.11271666666666667\n",
      "itration: 50\n",
      "correct outputs  33776 out of  60000\n",
      "accuracy: 0.5629333333333333\n",
      "itration: 100\n",
      "correct outputs  42200 out of  60000\n",
      "accuracy: 0.7033333333333334\n",
      "itration: 150\n",
      "correct outputs  45366 out of  60000\n",
      "accuracy: 0.7561\n",
      "itration: 200\n",
      "correct outputs  47105 out of  60000\n",
      "accuracy: 0.7850833333333334\n",
      "itration: 250\n",
      "correct outputs  48325 out of  60000\n",
      "accuracy: 0.8054166666666667\n",
      "itration: 300\n",
      "correct outputs  49160 out of  60000\n",
      "accuracy: 0.8193333333333334\n",
      "itration: 350\n",
      "correct outputs  49770 out of  60000\n",
      "accuracy: 0.8295\n",
      "itration: 400\n",
      "correct outputs  50225 out of  60000\n",
      "accuracy: 0.8370833333333333\n",
      "itration: 450\n",
      "correct outputs  50637 out of  60000\n",
      "accuracy: 0.84395\n"
     ]
    },
    {
     "data": {
      "text/plain": [
       "(array([[-0.29506211, -0.21792867, -0.24853345, ...,  0.17228014,\n",
       "         -0.13386121, -0.22401101],\n",
       "        [-0.42842424,  0.28404602, -0.11778225, ...,  0.12717305,\n",
       "         -0.19821192,  0.21218229],\n",
       "        [-0.30647306, -0.23761044,  0.04079665, ..., -0.03780257,\n",
       "         -0.43847643, -0.09675978],\n",
       "        ...,\n",
       "        [-0.21808602,  0.34437177, -0.12970453, ...,  0.4831638 ,\n",
       "          0.04722593,  0.42281829],\n",
       "        [ 0.33025018, -0.4424234 ,  0.36884073, ...,  0.4508786 ,\n",
       "         -0.35996143, -0.42066507],\n",
       "        [-0.34260181, -0.44659152, -0.45711022, ...,  0.40322488,\n",
       "          0.06045593,  0.15804158]]),\n",
       " array([[0.71831544],\n",
       "        [0.33017504],\n",
       "        [1.13252562],\n",
       "        [0.95224621],\n",
       "        [0.81861369],\n",
       "        [0.4408373 ],\n",
       "        [0.98893046],\n",
       "        [1.06573395],\n",
       "        [0.96343941],\n",
       "        [0.47795732]]),\n",
       " array([[ 0.0811205 ,  0.28042149,  0.73067641, -0.26083963,  0.09288527,\n",
       "          0.79068118, -0.31959682, -0.72698541, -0.54579437, -0.23450396],\n",
       "        [-0.20073837,  0.36179783, -0.46553378,  0.41163601,  0.17164104,\n",
       "         -0.81642689, -0.15111817,  0.57356818,  0.11825517,  0.52379419],\n",
       "        [-0.09405225,  0.28461673,  0.04613855, -0.7523517 , -0.17197972,\n",
       "          0.44784712, -0.23703178,  0.00846845, -0.43823484,  0.84225504],\n",
       "        [ 0.17135462, -0.21310026,  0.7546641 , -0.61308161, -0.02348349,\n",
       "         -0.36345298, -0.07581682,  0.20492952, -0.23708933,  0.20774813],\n",
       "        [ 0.31824398, -0.0941544 , -0.72726288, -0.30327825, -0.38341628,\n",
       "          0.32362712,  0.2768031 , -0.14320807,  0.94926313, -0.35965561],\n",
       "        [ 0.23722229, -0.25615361,  0.54820329,  0.11556561,  0.67773161,\n",
       "          0.1626951 , -0.04366304, -0.38314973,  0.28991666, -0.48037135],\n",
       "        [-0.27475269,  0.1795536 , -0.58374392, -0.42030956,  0.39208779,\n",
       "          0.55607112,  0.54407234, -0.68132331, -0.15795343, -0.22536105],\n",
       "        [-0.40782795, -0.05504453,  0.29175881,  0.42500051, -0.42643819,\n",
       "          0.43827526, -0.81199212,  0.67568642,  0.03228567,  0.00908551],\n",
       "        [ 0.12745491, -0.17908138,  0.13445044, -0.25954264,  0.15577164,\n",
       "          0.20623123,  0.02606722,  0.03268199,  0.223136  ,  0.23116748],\n",
       "        [-0.06780129,  0.08589824, -0.1969994 , -0.02120409, -0.29799985,\n",
       "          0.41944157, -0.38765981,  0.52008393,  0.54597454, -0.19003885]]),\n",
       " array([[ 0.02228274],\n",
       "        [-0.22090704],\n",
       "        [ 0.29285609],\n",
       "        [ 0.19364567],\n",
       "        [-0.43325816],\n",
       "        [-0.39968035],\n",
       "        [-0.20785793],\n",
       "        [-0.20345101],\n",
       "        [ 0.40745489],\n",
       "        [ 0.23848733]]))"
      ]
     },
     "execution_count": 460,
     "metadata": {},
     "output_type": "execute_result"
    }
   ],
   "source": [
    "gradient_descent(x_train,y_train,500,0.1)"
   ]
  },
  {
   "cell_type": "code",
   "execution_count": null,
   "id": "67d14f7d",
   "metadata": {},
   "outputs": [],
   "source": []
  },
  {
   "cell_type": "code",
   "execution_count": null,
   "id": "354af8a5",
   "metadata": {},
   "outputs": [],
   "source": []
  }
 ],
 "metadata": {
  "kernelspec": {
   "display_name": "Python 3 (ipykernel)",
   "language": "python",
   "name": "python3"
  },
  "language_info": {
   "codemirror_mode": {
    "name": "ipython",
    "version": 3
   },
   "file_extension": ".py",
   "mimetype": "text/x-python",
   "name": "python",
   "nbconvert_exporter": "python",
   "pygments_lexer": "ipython3",
   "version": "3.9.7"
  }
 },
 "nbformat": 4,
 "nbformat_minor": 5
}
