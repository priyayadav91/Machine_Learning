{
 "cells": [
  {
   "cell_type": "code",
   "execution_count": 30,
   "id": "019ae756",
   "metadata": {},
   "outputs": [],
   "source": [
    "from tensorflow.keras.datasets import mnist"
   ]
  },
  {
   "cell_type": "code",
   "execution_count": 59,
   "id": "d736be4a",
   "metadata": {},
   "outputs": [],
   "source": [
    "import tensorflow as tf\n",
    "from keras.models import Sequential\n",
    "from keras.layers import Dense"
   ]
  },
  {
   "cell_type": "markdown",
   "id": "45e91de6",
   "metadata": {},
   "source": [
    "### Load MNIST Dataset"
   ]
  },
  {
   "cell_type": "code",
   "execution_count": 60,
   "id": "28d77a10",
   "metadata": {},
   "outputs": [],
   "source": [
    "mnist_data=mnist.load_data()"
   ]
  },
  {
   "cell_type": "code",
   "execution_count": 61,
   "id": "116660f9",
   "metadata": {},
   "outputs": [],
   "source": [
    "(x_train,y_train),(x_test,y_test)=mnist_data"
   ]
  },
  {
   "cell_type": "code",
   "execution_count": 62,
   "id": "c9784609",
   "metadata": {},
   "outputs": [],
   "source": [
    "x_train=x_train.reshape((60000,-1))/255"
   ]
  },
  {
   "cell_type": "code",
   "execution_count": 63,
   "id": "6c9b5cf0",
   "metadata": {},
   "outputs": [],
   "source": [
    "y_train=tf.keras.utils.to_categorical(y_train)"
   ]
  },
  {
   "cell_type": "code",
   "execution_count": 64,
   "id": "3f49e977",
   "metadata": {},
   "outputs": [],
   "source": [
    "x_test=x_test.reshape((10000,-1))/255\n",
    "y_test=tf.keras.utils.to_categorical(y_test)\n"
   ]
  },
  {
   "cell_type": "code",
   "execution_count": 65,
   "id": "232261db",
   "metadata": {},
   "outputs": [
    {
     "data": {
      "text/plain": [
       "((60000, 784), (10000, 784), (60000, 10), (10000, 10))"
      ]
     },
     "execution_count": 65,
     "metadata": {},
     "output_type": "execute_result"
    }
   ],
   "source": [
    "x_train.shape,x_test.shape,y_train.shape,y_test.shape"
   ]
  },
  {
   "cell_type": "markdown",
   "id": "5aab1780",
   "metadata": {},
   "source": [
    "### Sequential model"
   ]
  },
  {
   "cell_type": "code",
   "execution_count": 66,
   "id": "f6ddc90b",
   "metadata": {},
   "outputs": [],
   "source": [
    "model = Sequential()"
   ]
  },
  {
   "cell_type": "code",
   "execution_count": 67,
   "id": "fd3d473c",
   "metadata": {},
   "outputs": [],
   "source": [
    "layer1 = Dense(units=10, activation = 'relu', input_dim = 784)\n",
    "model.add(layer1)\n",
    "model.add(Dense(units=10,activation='softmax'))\n"
   ]
  },
  {
   "cell_type": "code",
   "execution_count": 68,
   "id": "267aa5c5",
   "metadata": {},
   "outputs": [],
   "source": [
    "model.compile(optimizer='adam', loss='categorical_crossentropy', metrics=['accuracy'])"
   ]
  },
  {
   "cell_type": "code",
   "execution_count": 69,
   "id": "4a5dfbd5",
   "metadata": {},
   "outputs": [
    {
     "name": "stdout",
     "output_type": "stream",
     "text": [
      "Epoch 1/20\n",
      "1200/1200 [==============================] - 2s 1ms/step - loss: 0.5647 - accuracy: 0.8394 - val_loss: 0.3158 - val_accuracy: 0.9094\n",
      "Epoch 2/20\n",
      "1200/1200 [==============================] - 1s 1ms/step - loss: 0.2991 - accuracy: 0.9156 - val_loss: 0.2759 - val_accuracy: 0.9229\n",
      "Epoch 3/20\n",
      "1200/1200 [==============================] - 2s 1ms/step - loss: 0.2749 - accuracy: 0.9220 - val_loss: 0.2739 - val_accuracy: 0.9229\n",
      "Epoch 4/20\n",
      "1200/1200 [==============================] - 1s 1ms/step - loss: 0.2614 - accuracy: 0.9267 - val_loss: 0.2594 - val_accuracy: 0.9285\n",
      "Epoch 5/20\n",
      "1200/1200 [==============================] - 1s 1ms/step - loss: 0.2519 - accuracy: 0.9293 - val_loss: 0.2554 - val_accuracy: 0.9275\n",
      "Epoch 6/20\n",
      "1200/1200 [==============================] - 1s 1ms/step - loss: 0.2441 - accuracy: 0.9318 - val_loss: 0.2543 - val_accuracy: 0.9275\n",
      "Epoch 7/20\n",
      "1200/1200 [==============================] - 2s 1ms/step - loss: 0.2381 - accuracy: 0.9332 - val_loss: 0.2461 - val_accuracy: 0.9307\n",
      "Epoch 8/20\n",
      "1200/1200 [==============================] - 1s 1ms/step - loss: 0.2328 - accuracy: 0.9345 - val_loss: 0.2461 - val_accuracy: 0.9297\n",
      "Epoch 9/20\n",
      "1200/1200 [==============================] - 1s 1ms/step - loss: 0.2293 - accuracy: 0.9360 - val_loss: 0.2483 - val_accuracy: 0.9320\n",
      "Epoch 10/20\n",
      "1200/1200 [==============================] - 1s 1ms/step - loss: 0.2247 - accuracy: 0.9368 - val_loss: 0.2435 - val_accuracy: 0.9317\n",
      "Epoch 11/20\n",
      "1200/1200 [==============================] - 1s 1ms/step - loss: 0.2221 - accuracy: 0.9369 - val_loss: 0.2393 - val_accuracy: 0.9328\n",
      "Epoch 12/20\n",
      "1200/1200 [==============================] - 1s 1ms/step - loss: 0.2185 - accuracy: 0.9384 - val_loss: 0.2435 - val_accuracy: 0.9310\n",
      "Epoch 13/20\n",
      "1200/1200 [==============================] - 2s 1ms/step - loss: 0.2155 - accuracy: 0.9394 - val_loss: 0.2379 - val_accuracy: 0.9336\n",
      "Epoch 14/20\n",
      "1200/1200 [==============================] - 2s 1ms/step - loss: 0.2136 - accuracy: 0.9389 - val_loss: 0.2355 - val_accuracy: 0.9341\n",
      "Epoch 15/20\n",
      "1200/1200 [==============================] - 1s 1ms/step - loss: 0.2114 - accuracy: 0.9394 - val_loss: 0.2398 - val_accuracy: 0.9338\n",
      "Epoch 16/20\n",
      "1200/1200 [==============================] - 2s 1ms/step - loss: 0.2096 - accuracy: 0.9396 - val_loss: 0.2375 - val_accuracy: 0.9349\n",
      "Epoch 17/20\n",
      "1200/1200 [==============================] - 1s 1ms/step - loss: 0.2076 - accuracy: 0.9406 - val_loss: 0.2338 - val_accuracy: 0.9353\n",
      "Epoch 18/20\n",
      "1200/1200 [==============================] - 2s 1ms/step - loss: 0.2072 - accuracy: 0.9409 - val_loss: 0.2368 - val_accuracy: 0.9342\n",
      "Epoch 19/20\n",
      "1200/1200 [==============================] - 2s 1ms/step - loss: 0.2042 - accuracy: 0.9407 - val_loss: 0.2319 - val_accuracy: 0.9373\n",
      "Epoch 20/20\n",
      "1200/1200 [==============================] - 2s 1ms/step - loss: 0.2023 - accuracy: 0.9423 - val_loss: 0.2386 - val_accuracy: 0.9357\n"
     ]
    },
    {
     "data": {
      "text/plain": [
       "<keras.callbacks.History at 0x1d211808490>"
      ]
     },
     "execution_count": 69,
     "metadata": {},
     "output_type": "execute_result"
    }
   ],
   "source": [
    "model.fit(x_train, y_train, epochs=20, batch_size = 50, validation_data=(x_test, y_test))"
   ]
  },
  {
   "cell_type": "markdown",
   "id": "175b27d9",
   "metadata": {},
   "source": [
    "### Results"
   ]
  },
  {
   "cell_type": "code",
   "execution_count": 70,
   "id": "0c5f0234",
   "metadata": {},
   "outputs": [
    {
     "name": "stdout",
     "output_type": "stream",
     "text": [
      "313/313 [==============================] - 0s 753us/step\n",
      "313/313 [==============================] - 0s 899us/step - loss: 0.2386 - accuracy: 0.9357\n"
     ]
    },
    {
     "data": {
      "text/plain": [
       "[0.23858046531677246, 0.935699999332428]"
      ]
     },
     "execution_count": 70,
     "metadata": {},
     "output_type": "execute_result"
    }
   ],
   "source": [
    "predictions = model.predict(x_test)\n",
    "score = model.evaluate(x_test, y_test)\n",
    "score"
   ]
  },
  {
   "cell_type": "code",
   "execution_count": null,
   "id": "3aa3042d",
   "metadata": {},
   "outputs": [],
   "source": []
  }
 ],
 "metadata": {
  "kernelspec": {
   "display_name": "Python 3 (ipykernel)",
   "language": "python",
   "name": "python3"
  },
  "language_info": {
   "codemirror_mode": {
    "name": "ipython",
    "version": 3
   },
   "file_extension": ".py",
   "mimetype": "text/x-python",
   "name": "python",
   "nbconvert_exporter": "python",
   "pygments_lexer": "ipython3",
   "version": "3.9.7"
  }
 },
 "nbformat": 4,
 "nbformat_minor": 5
}
