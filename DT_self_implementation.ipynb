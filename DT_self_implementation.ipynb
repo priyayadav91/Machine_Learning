{
 "cells": [
  {
   "cell_type": "code",
   "execution_count": 37,
   "id": "49dea419",
   "metadata": {},
   "outputs": [],
   "source": [
    "import numpy as np\n",
    "import pandas as pd\n",
    "from sklearn import datasets\n",
    "from collections import Counter\n",
    "import math"
   ]
  },
  {
   "cell_type": "markdown",
   "id": "20ee6cd2",
   "metadata": {},
   "source": [
    "## Code for OR gate using Decision Tree"
   ]
  },
  {
   "cell_type": "code",
   "execution_count": 52,
   "id": "414d65b2",
   "metadata": {},
   "outputs": [],
   "source": [
    "data=[[True,True,True],[True,False,True],[False,True,True],[False,False,False]]"
   ]
  },
  {
   "cell_type": "code",
   "execution_count": 55,
   "id": "e8ae47dc",
   "metadata": {},
   "outputs": [],
   "source": [
    "train=pd.DataFrame(data)"
   ]
  },
  {
   "cell_type": "code",
   "execution_count": 56,
   "id": "b05c2a54",
   "metadata": {},
   "outputs": [],
   "source": [
    "train.columns=[\"X1\",\"X2\",\"Output\"]"
   ]
  },
  {
   "cell_type": "code",
   "execution_count": 57,
   "id": "d8ca4eae",
   "metadata": {},
   "outputs": [],
   "source": [
    "features=[\"X1\",\"X2\"]"
   ]
  },
  {
   "cell_type": "code",
   "execution_count": 58,
   "id": "d6f60967",
   "metadata": {},
   "outputs": [],
   "source": [
    "def DecisionTreeImplement(train,features,level):\n",
    "    uni_output=set(train[\"Output\"]) #set of unique outputs\n",
    "    if len(uni_output)==1:\n",
    "        print(\"Level:\",level)\n",
    "        print(\"Entropy of current node\",'0.0')\n",
    "        print('Reached leaf Node')\n",
    "        return\n",
    "    #current node's entropy\n",
    "    curr_e=0\n",
    "    print(\"Level:\",level)\n",
    "    for ele in Counter(train[\"Output\"]).most_common():\n",
    "        # print(\"Count of \", ele[0],\"is:\",ele[1])\n",
    "        curr_e+=entropy(ele[1],train[\"Output\"].count())\n",
    "    print(\"Entropy of current node\",curr_e)\n",
    "    if len(features)==0:\n",
    "        return\n",
    "    f_to_be_selected=\"\"\n",
    "    max_e=0\n",
    "    for f in features:\n",
    "        feature_col=train[f]\n",
    "        rows=train[f].count()\n",
    "        uni_feture=set(feature_col)\n",
    "        en=0\n",
    "        for f_ in uni_feture:\n",
    "            data_corresponding_uni_feature=train[train[f]==f_]\n",
    "            for ele in Counter(data_corresponding_uni_feature[\"Output\"]).most_common():\n",
    "                \n",
    "                en+=entropy(ele[1],data_corresponding_uni_feature[f].count())\n",
    "            (data_corresponding_uni_feature[f].count()/rows)*en\n",
    "        if max_e<=en:\n",
    "            max_e=en\n",
    "            f_to_be_selected=f\n",
    "            dataset_selected=data_corresponding_uni_feature\n",
    "    print(\"Feature selected:\"+ f_to_be_selected)\n",
    "    features.remove(f_to_be_selected)\n",
    "    feature_col=train[f_to_be_selected]\n",
    "    # rows=train[f].count()\n",
    "    uni_feture=set(feature_col)\n",
    "    for f_to_work_on in uni_feture:\n",
    "        next_data=train[train[f_to_be_selected]==f_to_work_on]\n",
    "        # print(next_data)\n",
    "        DecisionTreeImplement(next_data,features,level+1)"
   ]
  },
  {
   "cell_type": "code",
   "execution_count": 59,
   "id": "ebb4423b",
   "metadata": {},
   "outputs": [],
   "source": [
    "def entropy(selected,total):\n",
    "    p=selected/total\n",
    "    ent=-p*math.log2(p)\n",
    "    return ent\n",
    "    "
   ]
  },
  {
   "cell_type": "code",
   "execution_count": 60,
   "id": "6f790858",
   "metadata": {},
   "outputs": [
    {
     "name": "stdout",
     "output_type": "stream",
     "text": [
      "Level: 0\n",
      "Entropy of current node 0.8112781244591328\n",
      "Feature selected:X2\n",
      "Level: 1\n",
      "Entropy of current node 1.0\n",
      "Feature selected:X1\n",
      "Level: 2\n",
      "Entropy of current node 0.0\n",
      "Reached leaf Node\n",
      "Level: 2\n",
      "Entropy of current node 0.0\n",
      "Reached leaf Node\n",
      "Level: 1\n",
      "Entropy of current node 0.0\n",
      "Reached leaf Node\n"
     ]
    }
   ],
   "source": [
    "DecisionTreeImplement(train,features,0)"
   ]
  },
  {
   "cell_type": "markdown",
   "id": "1d546bac",
   "metadata": {},
   "source": [
    "## Code  for Iris dataset using DT"
   ]
  },
  {
   "cell_type": "code",
   "execution_count": 61,
   "id": "930247cb",
   "metadata": {},
   "outputs": [],
   "source": [
    "data=datasets.load_iris()\n",
    "pd_data=pd.DataFrame(data.data)\n",
    "pd_data.columns=[\"s_l\",\"s_w\",\"p_l\",\"p_w\"]\n",
    "pd_data[\"Output\"]=data.target\n",
    "train=pd_data\n",
    "features=[\"s_l\",\"s_w\",\"p_l\",\"p_w\"]"
   ]
  },
  {
   "cell_type": "code",
   "execution_count": 62,
   "id": "ae7ecb67",
   "metadata": {},
   "outputs": [
    {
     "name": "stdout",
     "output_type": "stream",
     "text": [
      "Level: 0\n",
      "Entropy of current node 1.584962500721156\n",
      "Feature selected:s_l\n",
      "Level: 1\n",
      "Entropy of current node 0.0\n",
      "Reached leaf Node\n",
      "Level: 1\n",
      "Entropy of current node 0.863120568566631\n",
      "Feature selected:p_w\n",
      "Level: 2\n",
      "Entropy of current node 0.0\n",
      "Reached leaf Node\n",
      "Level: 2\n",
      "Entropy of current node 0.0\n",
      "Reached leaf Node\n",
      "Level: 2\n",
      "Entropy of current node 0.0\n",
      "Reached leaf Node\n",
      "Level: 2\n",
      "Entropy of current node 0.0\n",
      "Reached leaf Node\n",
      "Level: 2\n",
      "Entropy of current node 0.0\n",
      "Reached leaf Node\n",
      "Level: 1\n",
      "Entropy of current node 0.7219280948873623\n",
      "Feature selected:p_l\n",
      "Level: 2\n",
      "Entropy of current node 0.0\n",
      "Reached leaf Node\n",
      "Level: 2\n",
      "Entropy of current node 0.0\n",
      "Reached leaf Node\n",
      "Level: 2\n",
      "Entropy of current node 0.0\n",
      "Reached leaf Node\n",
      "Level: 2\n",
      "Entropy of current node 0.0\n",
      "Reached leaf Node\n",
      "Level: 2\n",
      "Entropy of current node 0.0\n",
      "Reached leaf Node\n",
      "Level: 2\n",
      "Entropy of current node 0.0\n",
      "Reached leaf Node\n",
      "Level: 2\n",
      "Entropy of current node 0.0\n",
      "Reached leaf Node\n",
      "Level: 1\n",
      "Entropy of current node 1.2516291673878228\n",
      "Feature selected:s_w\n",
      "Level: 2\n",
      "Entropy of current node 0.0\n",
      "Reached leaf Node\n",
      "Level: 2\n",
      "Entropy of current node 0.0\n",
      "Reached leaf Node\n",
      "Level: 2\n",
      "Entropy of current node 0.0\n",
      "Reached leaf Node\n",
      "Level: 2\n",
      "Entropy of current node 0.0\n",
      "Reached leaf Node\n",
      "Level: 2\n",
      "Entropy of current node 0.0\n",
      "Reached leaf Node\n",
      "Level: 1\n",
      "Entropy of current node 0.5032583347756457\n",
      "Level: 1\n",
      "Entropy of current node 0.0\n",
      "Reached leaf Node\n",
      "Level: 1\n",
      "Entropy of current node 0.6500224216483541\n",
      "Level: 1\n",
      "Entropy of current node 0.0\n",
      "Reached leaf Node\n",
      "Level: 1\n",
      "Entropy of current node 0.0\n",
      "Reached leaf Node\n",
      "Level: 1\n",
      "Entropy of current node 0.0\n",
      "Reached leaf Node\n",
      "Level: 1\n",
      "Entropy of current node 1.4488156357251847\n",
      "Level: 1\n",
      "Entropy of current node 0.0\n",
      "Reached leaf Node\n",
      "Level: 1\n",
      "Entropy of current node 0.0\n",
      "Reached leaf Node\n",
      "Level: 1\n",
      "Entropy of current node 0.0\n",
      "Reached leaf Node\n",
      "Level: 1\n",
      "Entropy of current node 0.9182958340544896\n",
      "Level: 1\n",
      "Entropy of current node 0.6500224216483541\n",
      "Level: 1\n",
      "Entropy of current node 0.8112781244591328\n",
      "Level: 1\n",
      "Entropy of current node 0.7219280948873623\n",
      "Level: 1\n",
      "Entropy of current node 0.863120568566631\n",
      "Level: 1\n",
      "Entropy of current node 0.0\n",
      "Reached leaf Node\n",
      "Level: 1\n",
      "Entropy of current node 0.9182958340544896\n",
      "Level: 1\n",
      "Entropy of current node 0.9182958340544896\n",
      "Level: 1\n",
      "Entropy of current node 0.0\n",
      "Reached leaf Node\n",
      "Level: 1\n",
      "Entropy of current node 0.0\n",
      "Reached leaf Node\n",
      "Level: 1\n",
      "Entropy of current node 0.0\n",
      "Reached leaf Node\n",
      "Level: 1\n",
      "Entropy of current node 1.2987949406953985\n",
      "Level: 1\n",
      "Entropy of current node 0.0\n",
      "Reached leaf Node\n",
      "Level: 1\n",
      "Entropy of current node 0.8112781244591328\n",
      "Level: 1\n",
      "Entropy of current node 0.9182958340544896\n",
      "Level: 1\n",
      "Entropy of current node 0.954434002924965\n",
      "Level: 1\n",
      "Entropy of current node 1.0\n",
      "Level: 1\n",
      "Entropy of current node 0.9182958340544896\n",
      "Level: 1\n",
      "Entropy of current node 0.0\n",
      "Reached leaf Node\n",
      "Level: 1\n",
      "Entropy of current node 0.0\n",
      "Reached leaf Node\n",
      "Level: 1\n",
      "Entropy of current node 0.0\n",
      "Reached leaf Node\n"
     ]
    }
   ],
   "source": [
    "DecisionTreeImplement(train,features,0)"
   ]
  },
  {
   "cell_type": "code",
   "execution_count": null,
   "id": "3db83ea4",
   "metadata": {},
   "outputs": [],
   "source": []
  }
 ],
 "metadata": {
  "kernelspec": {
   "display_name": "Python 3 (ipykernel)",
   "language": "python",
   "name": "python3"
  },
  "language_info": {
   "codemirror_mode": {
    "name": "ipython",
    "version": 3
   },
   "file_extension": ".py",
   "mimetype": "text/x-python",
   "name": "python",
   "nbconvert_exporter": "python",
   "pygments_lexer": "ipython3",
   "version": "3.9.7"
  }
 },
 "nbformat": 4,
 "nbformat_minor": 5
}
