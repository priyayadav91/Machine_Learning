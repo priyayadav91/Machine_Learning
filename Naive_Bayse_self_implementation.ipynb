{
 "cells": [
  {
   "cell_type": "markdown",
   "id": "37e11cdf",
   "metadata": {},
   "source": [
    "## Naive Bayse self implementation on iris dataset"
   ]
  },
  {
   "cell_type": "code",
   "execution_count": 23,
   "id": "5e03631d",
   "metadata": {},
   "outputs": [],
   "source": [
    "from sklearn import datasets\n",
    "import pandas as pd\n",
    "from sklearn.model_selection import train_test_split\n",
    "import math\n",
    "from sklearn.metrics import confusion_matrix"
   ]
  },
  {
   "cell_type": "code",
   "execution_count": 24,
   "id": "28f9f90c",
   "metadata": {},
   "outputs": [],
   "source": [
    "data=datasets.load_iris()\n",
    "x_train,x_test,y_train,y_test=train_test_split(data.data,data.target)\n",
    "train=pd.DataFrame(x_train)\n",
    "train.columns=[\"sepal_length\",\"sepal_width\",\"petal_length\",\"petal_width\"]\n",
    "train[\"target\"]=y_train"
   ]
  },
  {
   "cell_type": "code",
   "execution_count": 25,
   "id": "f1f7feac",
   "metadata": {},
   "outputs": [
    {
     "data": {
      "text/html": [
       "<div>\n",
       "<style scoped>\n",
       "    .dataframe tbody tr th:only-of-type {\n",
       "        vertical-align: middle;\n",
       "    }\n",
       "\n",
       "    .dataframe tbody tr th {\n",
       "        vertical-align: top;\n",
       "    }\n",
       "\n",
       "    .dataframe thead th {\n",
       "        text-align: right;\n",
       "    }\n",
       "</style>\n",
       "<table border=\"1\" class=\"dataframe\">\n",
       "  <thead>\n",
       "    <tr style=\"text-align: right;\">\n",
       "      <th></th>\n",
       "      <th>sepal_length</th>\n",
       "      <th>sepal_width</th>\n",
       "      <th>petal_length</th>\n",
       "      <th>petal_width</th>\n",
       "      <th>target</th>\n",
       "    </tr>\n",
       "  </thead>\n",
       "  <tbody>\n",
       "    <tr>\n",
       "      <th>0</th>\n",
       "      <td>5.1</td>\n",
       "      <td>2.5</td>\n",
       "      <td>3.0</td>\n",
       "      <td>1.1</td>\n",
       "      <td>1</td>\n",
       "    </tr>\n",
       "    <tr>\n",
       "      <th>1</th>\n",
       "      <td>5.8</td>\n",
       "      <td>2.6</td>\n",
       "      <td>4.0</td>\n",
       "      <td>1.2</td>\n",
       "      <td>1</td>\n",
       "    </tr>\n",
       "    <tr>\n",
       "      <th>2</th>\n",
       "      <td>4.9</td>\n",
       "      <td>2.4</td>\n",
       "      <td>3.3</td>\n",
       "      <td>1.0</td>\n",
       "      <td>1</td>\n",
       "    </tr>\n",
       "    <tr>\n",
       "      <th>3</th>\n",
       "      <td>4.8</td>\n",
       "      <td>3.4</td>\n",
       "      <td>1.9</td>\n",
       "      <td>0.2</td>\n",
       "      <td>0</td>\n",
       "    </tr>\n",
       "    <tr>\n",
       "      <th>4</th>\n",
       "      <td>6.3</td>\n",
       "      <td>3.4</td>\n",
       "      <td>5.6</td>\n",
       "      <td>2.4</td>\n",
       "      <td>2</td>\n",
       "    </tr>\n",
       "    <tr>\n",
       "      <th>...</th>\n",
       "      <td>...</td>\n",
       "      <td>...</td>\n",
       "      <td>...</td>\n",
       "      <td>...</td>\n",
       "      <td>...</td>\n",
       "    </tr>\n",
       "    <tr>\n",
       "      <th>107</th>\n",
       "      <td>6.8</td>\n",
       "      <td>2.8</td>\n",
       "      <td>4.8</td>\n",
       "      <td>1.4</td>\n",
       "      <td>1</td>\n",
       "    </tr>\n",
       "    <tr>\n",
       "      <th>108</th>\n",
       "      <td>5.0</td>\n",
       "      <td>3.0</td>\n",
       "      <td>1.6</td>\n",
       "      <td>0.2</td>\n",
       "      <td>0</td>\n",
       "    </tr>\n",
       "    <tr>\n",
       "      <th>109</th>\n",
       "      <td>4.8</td>\n",
       "      <td>3.0</td>\n",
       "      <td>1.4</td>\n",
       "      <td>0.1</td>\n",
       "      <td>0</td>\n",
       "    </tr>\n",
       "    <tr>\n",
       "      <th>110</th>\n",
       "      <td>5.0</td>\n",
       "      <td>3.5</td>\n",
       "      <td>1.6</td>\n",
       "      <td>0.6</td>\n",
       "      <td>0</td>\n",
       "    </tr>\n",
       "    <tr>\n",
       "      <th>111</th>\n",
       "      <td>5.4</td>\n",
       "      <td>3.9</td>\n",
       "      <td>1.7</td>\n",
       "      <td>0.4</td>\n",
       "      <td>0</td>\n",
       "    </tr>\n",
       "  </tbody>\n",
       "</table>\n",
       "<p>112 rows × 5 columns</p>\n",
       "</div>"
      ],
      "text/plain": [
       "     sepal_length  sepal_width  petal_length  petal_width  target\n",
       "0             5.1          2.5           3.0          1.1       1\n",
       "1             5.8          2.6           4.0          1.2       1\n",
       "2             4.9          2.4           3.3          1.0       1\n",
       "3             4.8          3.4           1.9          0.2       0\n",
       "4             6.3          3.4           5.6          2.4       2\n",
       "..            ...          ...           ...          ...     ...\n",
       "107           6.8          2.8           4.8          1.4       1\n",
       "108           5.0          3.0           1.6          0.2       0\n",
       "109           4.8          3.0           1.4          0.1       0\n",
       "110           5.0          3.5           1.6          0.6       0\n",
       "111           5.4          3.9           1.7          0.4       0\n",
       "\n",
       "[112 rows x 5 columns]"
      ]
     },
     "execution_count": 25,
     "metadata": {},
     "output_type": "execute_result"
    }
   ],
   "source": [
    "train"
   ]
  },
  {
   "cell_type": "code",
   "execution_count": 50,
   "id": "d5bf0fa7",
   "metadata": {},
   "outputs": [],
   "source": [
    "def naivebayseclassifier(train):\n",
    "    unique_classes=set(train[\"target\"])\n",
    "    # build a dictionary for class\n",
    "    dict_class={}\n",
    "    unique_features=[\"sepal_length\",\"sepal_width\",\"petal_length\",\"petal_width\"]\n",
    "#     print(unique_features)\n",
    "    for class_ in unique_classes:   \n",
    "        # build a dictionary of features with respect to each class\n",
    "        data_corresponding_class=train[train[\"target\"]==class_]        \n",
    "        dict_class[class_]={}\n",
    "        for feature in unique_features:\n",
    "            dict_class[class_][feature]=claculate_mean_var(data_corresponding_class,feature) # calculate mean and variance  for each feature\n",
    "    return dict_class\n",
    "            "
   ]
  },
  {
   "cell_type": "code",
   "execution_count": 27,
   "id": "641139dc",
   "metadata": {},
   "outputs": [],
   "source": [
    "def claculate_mean_var(data_corresponding_class,feature):\n",
    "    mean=data_corresponding_class[feature].mean()\n",
    "    var=data_corresponding_class[feature].var()\n",
    "    return mean,var"
   ]
  },
  {
   "cell_type": "code",
   "execution_count": 28,
   "id": "7e740c07",
   "metadata": {},
   "outputs": [],
   "source": [
    "def predictclass(dict_class,test_data):\n",
    "    unique_class=set(train[\"target\"])\n",
    "    unique_features=[\"sepal_length\",\"sepal_width\",\"petal_length\",\"petal_width\"]\n",
    "    output=[]\n",
    "    for ele in test_data:\n",
    "        max_prob=0\n",
    "        class_=4\n",
    "        for class_in in unique_class:\n",
    "            \n",
    "            p_s_l=probablity(ele[0],dict_class[class_in][\"sepal_length\"][0],dict_class[class_in][\"sepal_length\"][1])\n",
    "            p_s_w=probablity(ele[1],dict_class[class_in][\"sepal_width\"][0],dict_class[class_in][\"sepal_width\"][1])\n",
    "            p_p_l=probablity(ele[2],dict_class[class_in][\"petal_length\"][0],dict_class[class_in][\"petal_length\"][1])\n",
    "            p_p_w=probablity(ele[3],dict_class[class_in][\"petal_width\"][0],dict_class[class_in][\"petal_width\"][1])\n",
    "            # Probablity for an input for particular class.\n",
    "            complete_pro=p_s_l*p_s_w*p_p_l*p_p_w\n",
    "            if max_prob<complete_pro: #comparing probablity\n",
    "                \n",
    "                max_prob=complete_pro\n",
    "                class_=class_in\n",
    "        output.append(class_)\n",
    "    return output"
   ]
  },
  {
   "cell_type": "code",
   "execution_count": 29,
   "id": "c33db72c",
   "metadata": {},
   "outputs": [],
   "source": [
    "def probablity(x,mean,variance):\n",
    "\n",
    "    logit_val=math.exp(-0.5*((x-mean)/variance)**2)\n",
    "    pr=1/(variance*((2*3.14)**1/2))*logit_val\n",
    "    return pr"
   ]
  },
  {
   "cell_type": "code",
   "execution_count": 30,
   "id": "5576bb72",
   "metadata": {},
   "outputs": [],
   "source": [
    "dict_class=naivebayseclassifier(train)"
   ]
  },
  {
   "cell_type": "code",
   "execution_count": 31,
   "id": "f10fd263",
   "metadata": {},
   "outputs": [],
   "source": [
    "predicted_values=predictclass(dict_class,x_test)"
   ]
  },
  {
   "cell_type": "code",
   "execution_count": 32,
   "id": "a9db288f",
   "metadata": {},
   "outputs": [
    {
     "data": {
      "text/plain": [
       "array([[10,  0,  0],\n",
       "       [ 0, 11,  1],\n",
       "       [ 0,  0, 16]], dtype=int64)"
      ]
     },
     "execution_count": 32,
     "metadata": {},
     "output_type": "execute_result"
    }
   ],
   "source": [
    "confusion_matrix(y_test,predicted_values)"
   ]
  },
  {
   "cell_type": "markdown",
   "id": "7d6049cf",
   "metadata": {},
   "source": [
    "## Naive Bayse implementation using inbuilt  CategoricalNBclassifier"
   ]
  },
  {
   "cell_type": "code",
   "execution_count": 44,
   "id": "5400e057",
   "metadata": {},
   "outputs": [],
   "source": [
    "from sklearn.naive_bayes import CategoricalNB"
   ]
  },
  {
   "cell_type": "code",
   "execution_count": 37,
   "id": "4f4f43f5",
   "metadata": {},
   "outputs": [],
   "source": [
    "clf=CategoricalNB()"
   ]
  },
  {
   "cell_type": "code",
   "execution_count": 38,
   "id": "dcdb04d1",
   "metadata": {},
   "outputs": [
    {
     "data": {
      "text/plain": [
       "CategoricalNB()"
      ]
     },
     "execution_count": 38,
     "metadata": {},
     "output_type": "execute_result"
    }
   ],
   "source": [
    "clf.fit(x_train,y_train)"
   ]
  },
  {
   "cell_type": "code",
   "execution_count": 41,
   "id": "50231a09",
   "metadata": {},
   "outputs": [],
   "source": [
    "p=clf.predict(x_test)"
   ]
  },
  {
   "cell_type": "code",
   "execution_count": 43,
   "id": "122e5f0e",
   "metadata": {},
   "outputs": [
    {
     "data": {
      "text/plain": [
       "array([[10,  0,  0],\n",
       "       [ 0, 12,  0],\n",
       "       [ 0,  4, 12]], dtype=int64)"
      ]
     },
     "execution_count": 43,
     "metadata": {},
     "output_type": "execute_result"
    }
   ],
   "source": [
    "confusion_matrix(y_test,p)"
   ]
  },
  {
   "cell_type": "markdown",
   "id": "547a74a4",
   "metadata": {},
   "source": [
    "## Naive Bayse implementation using inbuilt GaussianNB classifier"
   ]
  },
  {
   "cell_type": "code",
   "execution_count": 45,
   "id": "6f018bb2",
   "metadata": {},
   "outputs": [],
   "source": [
    "from sklearn.naive_bayes import GaussianNB"
   ]
  },
  {
   "cell_type": "code",
   "execution_count": 46,
   "id": "2d59de7f",
   "metadata": {},
   "outputs": [],
   "source": [
    "clf1=GaussianNB()"
   ]
  },
  {
   "cell_type": "code",
   "execution_count": 47,
   "id": "79afacd3",
   "metadata": {},
   "outputs": [
    {
     "data": {
      "text/plain": [
       "GaussianNB()"
      ]
     },
     "execution_count": 47,
     "metadata": {},
     "output_type": "execute_result"
    }
   ],
   "source": [
    "clf1.fit(x_train,y_train)"
   ]
  },
  {
   "cell_type": "code",
   "execution_count": 48,
   "id": "da814dad",
   "metadata": {},
   "outputs": [],
   "source": [
    "p=clf1.predict(x_test)"
   ]
  },
  {
   "cell_type": "code",
   "execution_count": 49,
   "id": "10cfca8b",
   "metadata": {},
   "outputs": [
    {
     "data": {
      "text/plain": [
       "array([[10,  0,  0],\n",
       "       [ 0, 11,  1],\n",
       "       [ 0,  0, 16]], dtype=int64)"
      ]
     },
     "execution_count": 49,
     "metadata": {},
     "output_type": "execute_result"
    }
   ],
   "source": [
    "confusion_matrix(y_test,p)"
   ]
  },
  {
   "cell_type": "code",
   "execution_count": null,
   "id": "cb57cab5",
   "metadata": {},
   "outputs": [],
   "source": []
  }
 ],
 "metadata": {
  "kernelspec": {
   "display_name": "Python 3 (ipykernel)",
   "language": "python",
   "name": "python3"
  },
  "language_info": {
   "codemirror_mode": {
    "name": "ipython",
    "version": 3
   },
   "file_extension": ".py",
   "mimetype": "text/x-python",
   "name": "python",
   "nbconvert_exporter": "python",
   "pygments_lexer": "ipython3",
   "version": "3.9.7"
  }
 },
 "nbformat": 4,
 "nbformat_minor": 5
}
